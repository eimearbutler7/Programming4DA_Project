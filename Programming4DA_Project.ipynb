{
 "cells": [
  {
   "cell_type": "markdown",
   "metadata": {},
   "source": [
    "# Programming for Data Analysis Project\n",
    "## Eimear Butler, November 2018, Semester 2"
   ]
  },
  {
   "cell_type": "markdown",
   "metadata": {},
   "source": [
    "### Problem statement"
   ]
  },
  {
   "cell_type": "markdown",
   "metadata": {},
   "source": [
    "For this project you must create a data set by simulating a real-world phenomenon of your choosing. \n",
    "\n",
    "You may pick any phenomenon you wish. Then, rather than collect data related to the phenomenon, you should model and synthesise such data using Python.\n",
    "\n",
    "We suggest you use the `numpy. random` package for this purpose.\n",
    "\n",
    "Specifically, in this project you should:\n",
    "\n",
    "- Choose a real-world phenomenon that can be measured and for which you could collect at least one-hundred data points across at least four different variables.\n",
    "\n",
    "-  Investigate the types of variables involved, their likely distributions, and their relationships with each other.\n",
    "\n",
    "- Synthesise/simulate a data set as closely matching their properties as possible.\n",
    "\n",
    "- Detail your research and implement the simulation in a Jupyter notebook – the data set itself can simply be displayed in an output cell within the notebook."
   ]
  },
  {
   "cell_type": "markdown",
   "metadata": {},
   "source": [
    "## Section 1"
   ]
  },
  {
   "cell_type": "markdown",
   "metadata": {},
   "source": [
    "<div style=\"float: right\">\n",
    "<img style=\"float: right;\" src=\"https://i.cbc.ca/1.4438426.1512698037!/cpImage/httpImage/image.jpg_gen/derivatives/16x9_780/cda-business-5-things-20170813.jpg\" width=\"400\" height=\"300\">\n",
    "</div>\n",
    "**Choose a real-world phenomenon that can be measured and for which you could collect at least one-hundred data points across at least four different variables.**\n",
    "\n",
    "For this project, I have chosen to simulate data regarding the sale of property in Dublin broadly based on asking prices currently advertised on Daft.ie<sup>2</sup>. The information from Daft.ie will be used as a guideline only and all data points will be simulated according to the relationships between the variables. "
   ]
  },
  {
   "cell_type": "markdown",
   "metadata": {},
   "source": [
    "**Investigate the types of variables involved, their likely distributions, and their relationships with each other.**\n",
    "\n",
    "**Synthesise/simulate a data set as closely matching their properties as possible.**"
   ]
  },
  {
   "cell_type": "markdown",
   "metadata": {},
   "source": [
    "The variables I am choosing to use are as follows: \n",
    "\n",
    "*NOTE: the overall dataframe is below and assinged the value \"df_final\" when reviewing the file after all  required cells belwo have been run, the dataframe van once again be viewed here:*"
   ]
  },
  {
   "cell_type": "code",
   "execution_count": null,
   "metadata": {},
   "outputs": [],
   "source": [
    "df_final"
   ]
  },
  {
   "cell_type": "markdown",
   "metadata": {},
   "source": [
    "**Distance to City**\n",
    "\n",
    "The random numbers generated for this variable will need to be a float and I am determining the range will be between 1 and 10km. \n",
    "\n",
    "From my previous assessment in this module<sup>1</sup>, the most suitable numpy random number generator function would appear to be: \n",
    "\n",
    "`(b - a) * np.random.random_sample((y, x)) + a`\n",
    "\n",
    "Let's test it out..."
   ]
  },
  {
   "cell_type": "code",
   "execution_count": null,
   "metadata": {
    "scrolled": true
   },
   "outputs": [],
   "source": [
    "import numpy as np #import numpy functionality\n",
    "import pandas as pd #import pandas functionality\n",
    "\n",
    "a = 0.2 #Lowest value in target range\n",
    "b = 10 #Highest value in target range\n",
    "x = 100 #Array Size on the x axis \n",
    "# y axis is not needed as we only want a 1 dimentional Array to feed into panda dataframe\n",
    "\n",
    "distance = np.around((b - a) * np.random.random_sample((x)) + a, decimals = 2)  #source: https://docs.scipy.org/doc/numpy-1.15.1/reference/routines.random.html\n",
    "#Requests an array of random numbers from 0.2 (but not including 0.2 itself) to 10 and round to two decimal places\n",
    "\n",
    "pd.Series(distance) #source \"Pandas and iris dataset notebook\" Ian McLoughlin Semester 2 Lectures"
   ]
  },
  {
   "cell_type": "markdown",
   "metadata": {},
   "source": [
    "We now have a list of distances we can use and the first column in our dataframe. "
   ]
  },
  {
   "cell_type": "markdown",
   "metadata": {},
   "source": [
    "**Property Type**\n",
    "\n",
    "Next, I want to assign each of the 100 data points one of the following property types:\n",
    "\n",
    "- Detached\n",
    "- Semi-detached\n",
    "- Terrace\n",
    "- Apartment\n",
    "\n",
    "I can see from looking at Daft.ie, in general there are more apartments and terrace houses for sale in the centre of the city than in the suburbs so I intent to have a higher probability for the assignment of those to distances within 2.5 km of the city centre. \n",
    "\n",
    "Below I manipulate `np.random.choice(a, b, p=[])` and an if/elif statement to generate the next array of data."
   ]
  },
  {
   "cell_type": "code",
   "execution_count": null,
   "metadata": {
    "scrolled": true
   },
   "outputs": [],
   "source": [
    "# First I establish the property types I want to assign\n",
    "property_type = ['Detached', 'Semi-detached', 'Terrace', 'Apartment']\n",
    "\n",
    "#At this stage, I do have the option to just generate equally random property types and associate them with a distance in a panda's dataframe using the formula below...\n",
    "random_property_type = np.random.choice(property_type, 100) #source: https://docs.scipy.org/doc/numpy-1.15.1/reference/routines.random.html\n",
    "f = pd.DataFrame({'Distance': distance, 'Property Type': random_property_type}) #source \"Pandas and iris dataset notebook\" Ian McLoughlin Semester 2 Lectures\n",
    "\n",
    "#I can also print out the number of times each property type is used and can see that they are rasonably evenly distributed between the 4 options or skew in different directions each time it is run\n",
    "len1 = len(f[f['Property Type'].str.contains('Detached')]) #source \"Pandas and iris dataset notebook\" Ian McLoughlin Semester 2 Lectures\n",
    "len2 = len(f[f['Property Type'].str.contains('Semi-detached')])\n",
    "len3 = len(f[f['Property Type'].str.contains('Terrace')])\n",
    "len4 = len(f[f['Property Type'].str.contains('Apartment')])\n",
    "\n",
    "print(len1, len2, len3, len4)"
   ]
  },
  {
   "cell_type": "code",
   "execution_count": null,
   "metadata": {
    "scrolled": true
   },
   "outputs": [],
   "source": [
    "#However, as I said above, we know there are likely to be more apartments/terrace houses within 2.5km of the city centre and less outside of that so I want to reflect that in my data\n",
    "#I instead split the distance figures into those within 2.5km (True) and outside of 2.5km (False)\n",
    "w = distance <= 2.5\n",
    "\n",
    "#taking my list, I now instruct numpy to not just generate a random property type for each of the 10 data points but to create preferences based on the probability weighting (p=[])\n",
    "\n",
    "z = []    #I create an empty set to populate with the output from the below function\n",
    "\n",
    "for i in w:              #for all the w list which now consists of just True/False statements\n",
    "    \n",
    "    if i == True:        #where i is True i.e. the property is closer to the city..... \n",
    "        dist_weighted = np.random.choice(property_type, p=[0.05, 0.1, 0.25, 0.6]) #create a random number order of list where probabilty is increases for Apartments [original list: 'Detached', 'Semi-detached', 'Terrace', 'Apartment']\n",
    "        z.append(dist_weighted) #add the outputed random number to the list 'z'\n",
    "        \n",
    "    elif i == False:     #where i is False i.e. the property is further from the city..... \n",
    "        dist_weighted = np.random.choice(property_type, p=[0.25, 0.55, 0.1, 0.1]) #here, semi detached houses will be more popular (approx. 55%).\n",
    "        z.append(dist_weighted)   #add the outputed random number to the list 'z'\n",
    "        \n",
    "#we now have a list of property types called \"dist_weighted\" that is still random but will reflect a more \"real life\" data set due to my \n",
    "#instruction to numpy to alter the probability of one result above another based on the information in the first column (i.e. the distance)\n",
    "\n",
    "#print(z)  #remove first hashtag in this row to show the output list  \n",
    "len(z)"
   ]
  },
  {
   "cell_type": "code",
   "execution_count": null,
   "metadata": {
    "scrolled": true
   },
   "outputs": [],
   "source": [
    "#let's add the property types into the data frame \n",
    "df = pd.DataFrame({'Distance': distance, 'Property Type': z, 'Within 2.5km of Centre': w})\n",
    "\n",
    "#I can now isolate the True rows to see if there is a preference for apartments/terrace houses\n",
    "df_true = df.loc[df['Within 2.5km of Centre'] == True] #source https://erikrood.com/Python_References/rows_cols_python.html\n",
    "df_true # looks like there is and it worked!"
   ]
  },
  {
   "cell_type": "code",
   "execution_count": null,
   "metadata": {
    "scrolled": true
   },
   "outputs": [],
   "source": [
    "#I can also print out the number of times each property type is used to see if there is a bias for apartments/terrace houses in the city centre\n",
    "len_df_true = len(df_true)\n",
    "len_df_false = (len(df)-len_df_true)\n",
    "len5 = len(df_true[df_true['Property Type'].str.contains('Detached')]) #source https://pandas.pydata.org/pandas-docs/stable/generated/pandas.Series.str.contains.html\n",
    "len6 = len(df_true[df_true['Property Type'].str.contains('Semi-detached')])\n",
    "len7 = len(df_true[df_true['Property Type'].str.contains('Terrace')])\n",
    "len8 = len(df_true[df_true['Property Type'].str.contains('Apartment')])\n",
    "\n",
    "print(\"%d of the 100 data points are within 2.5km of the city centre. Total number of Apartments are %d and Terrace Houses are %d overall for properties within 2.5km showing a clear preference for them within this criteria.\" % (len_df_true, len8, len7),)"
   ]
  },
  {
   "cell_type": "markdown",
   "metadata": {},
   "source": [
    "**Condition**\n",
    "\n",
    "Next we want to assign each of the 100 data points a rating from 1 to 10 of how good condition the property is in. In theory any of the poperties could be in very good or very bad condition and so we will use the formula `np.random.randint()` to produce random integers."
   ]
  },
  {
   "cell_type": "code",
   "execution_count": null,
   "metadata": {
    "scrolled": true
   },
   "outputs": [],
   "source": [
    "condition = np.random.randint(1, 11, size = 100) #generates 100 integers between 1 and 10. Source https://docs.scipy.org/doc/numpy-1.15.1/reference/routines.random.html\n",
    "\n",
    "#let's take a look at the overall dataframe created so far before moving on\n",
    "\n",
    "df = pd.DataFrame({'Distance': distance,'Property Type': z, 'Condition': condition})\n",
    "df"
   ]
  },
  {
   "cell_type": "markdown",
   "metadata": {},
   "source": [
    "**Number of Bedrooms**\n",
    "\n",
    "Next we want to determine how many bedrooms each property has. Again, in theory an apartment could have 4 bedrooms and a house 1 but experience tells me most properties will have either 2 or 3 bedrooms. `np.random.choice()` is therefore useful again to help us create weighted results.  "
   ]
  },
  {
   "cell_type": "code",
   "execution_count": null,
   "metadata": {},
   "outputs": [],
   "source": [
    "# First I establish the numner of bedrooms I want to include\n",
    "bed = range(1,5)\n",
    "\n",
    "#Now I can generate random bedroom numbers with a preference for 2 and 3 bedrooms \n",
    "bedrooms = np.random.choice(bed, 100, p=[0.1, 0.4, 0.4, 0.1]) #approx 8/10 properties will be assigned 2 or 3 bedrooms. Source https://docs.scipy.org/doc/numpy-1.15.1/reference/routines.random.html\n",
    "bedrooms       "
   ]
  },
  {
   "cell_type": "code",
   "execution_count": null,
   "metadata": {
    "scrolled": true
   },
   "outputs": [],
   "source": [
    "#Again let's add them into the overall data frame and take a look...\n",
    "\n",
    "df = pd.DataFrame({'Distance': distance,'Property Type': z, 'Number of Bedrooms': bedrooms, 'Condition': condition})\n",
    "df    "
   ]
  },
  {
   "cell_type": "markdown",
   "metadata": {},
   "source": [
    "**Square Metre Price**\n",
    "\n",
    "Finally, we want to see if we can generate a random price per square meter for each property based on the attributes we have already established. Again common sense and a quick look at Daft.ie will tell you that the following will have an effect on the overall square meter price: \n",
    "- being closer to the city = higher price\n",
    "- more detatched the property = higher price\n",
    "- more bedrooms = higher price\n",
    "- better condition the property is in = higher price\n",
    "\n",
    "So let's generate random numbers that account for these atributes and produce a output that has a linear distribution. "
   ]
  },
  {
   "cell_type": "code",
   "execution_count": null,
   "metadata": {},
   "outputs": [],
   "source": [
    "#First I will establish a range of prices that Numpy can use as upper and lower limits to assign a price to each atribute\n",
    "#The intention is to take the average of each assigned atribute price to get an overall random generated \"Square Meter Price\" for each of the 100 properties \n",
    "\n",
    "range_1a, range_1b = 5500, 6500 #create 4 ranges of prices that will be assigned based on atributes in the next cells \n",
    "range_2a, range_2b = 4000, 5500 #prices decrease through out the range\n",
    "range_3a, range_3b = 3000, 4000\n",
    "range_4a, range_4b = 2500, 3000"
   ]
  },
  {
   "cell_type": "code",
   "execution_count": null,
   "metadata": {},
   "outputs": [],
   "source": [
    "d = [] #create an empty list for the distance pricing\n",
    "    \n",
    "for i in distance:     #using a python if statements, determines which distance values should be within which range. \n",
    "    if i < 2:          #cut off points are 2, 5, 7 and 10\n",
    "        price_range = np.random.randint(range_1a, range_1b) #the numbers generated are still random yet based within the appropriate range\n",
    "        d.append(price_range) #add the resulting random number to the d list until the whole distance column has been assigned a number\n",
    "    elif i < 5:        #repeat\n",
    "        price_range = np.random.randint(range_2a, range_2b)\n",
    "        d.append(price_range)\n",
    "    elif i < 7:\n",
    "        price_range = np.random.randint(range_3a, range_3b)\n",
    "        d.append(price_range)\n",
    "    else:\n",
    "        price_range = np.random.randint(range_4a, range_4b)\n",
    "        d.append(price_range)\n",
    "        \n",
    "print(len(d)) #confirm we have generated 100 new random numbers\n",
    "#print(d)  #remove hashtag here to show the newly generated list. "
   ]
  },
  {
   "cell_type": "code",
   "execution_count": null,
   "metadata": {},
   "outputs": [],
   "source": [
    "p = [] #create an empty list for the property type pricing\n",
    "\n",
    "for i in z:                    #using a python if statements, determines which property type should be within which range. \n",
    "    if i == 'Detached':        #each of the 4 types are assigned a range\n",
    "        price_range = np.random.randint(range_1a, range_1b) #the numbers generated are still random yet based within the appropriate range\n",
    "        p.append(price_range) #add the resulting random number to the p list until the whole property column has been assigned a number\n",
    "    if i == 'Semi-detached':         #repeat\n",
    "        price_range = np.random.randint(range_2a, range_2b) \n",
    "        p.append(price_range)\n",
    "    if i == 'Terrace':\n",
    "        price_range = np.random.randint(range_3a, range_3b) \n",
    "        p.append(price_range)\n",
    "    if i == 'Apartment':\n",
    "        price_range = np.random.randint(range_4a, range_4b) \n",
    "        p.append(price_range)\n",
    "\n",
    "print(len(p))  #confirm we have generated 100 new random numbers\n",
    "#print(p)  #remove hashtag here to show the newly generated list. "
   ]
  },
  {
   "cell_type": "code",
   "execution_count": null,
   "metadata": {},
   "outputs": [],
   "source": [
    "b = [] #create an empty list for the bedroom pricing\n",
    "\n",
    "for i in bedrooms:            #using a python if statements, determines which bedroom quantity should be within which range.\n",
    "    if i == 4:                #each of the 4 types are assigned a range\n",
    "        price_range = np.random.randint(range_1a, range_1b) #the numbers generated are still random yet based within the appropriate range\n",
    "        b.append(price_range) #add the resulting random number to the b list until the whole bedroom column has been assigned a number\n",
    "    if i == 3:                #repeat\n",
    "        price_range = np.random.randint(range_2a, range_2b) \n",
    "        b.append(price_range)\n",
    "    if i == 2:\n",
    "        price_range = np.random.randint(range_3a, range_3b) \n",
    "        b.append(price_range)\n",
    "    if i == 1:\n",
    "        price_range = np.random.randint(range_4a, range_4b) \n",
    "        b.append(price_range)\n",
    "\n",
    "print(len(b)) #confirm we have generated 100 new random numbers\n",
    "#print(b)  #remove hashtag here to show the newly generated list. "
   ]
  },
  {
   "cell_type": "code",
   "execution_count": null,
   "metadata": {},
   "outputs": [],
   "source": [
    "c = [] #create an empty list for the condition pricing\n",
    "\n",
    "for i in condition:               #using a python if statements, determines which condition value should be within which range.\n",
    "    if i in range (7, 11):        #cut off points are 7, 5, 3 and 0\n",
    "        price_range = np.random.randint(range_1a, range_1b) #the numbers generated are still random yet based within the appropriate range\n",
    "        c.append(price_range)     #add the resulting random number to the c list until the whole condition column has been assigned a number\n",
    "    if i in range (5, 7):         #repeat\n",
    "        price_range = np.random.randint(range_2a, range_2b) \n",
    "        c.append(price_range)\n",
    "    if i in range (3, 5):\n",
    "        price_range = np.random.randint(range_3a, range_3b) \n",
    "        c.append(price_range)\n",
    "    if i in range (0, 3):\n",
    "        price_range = np.random.randint(range_4a, range_4b) \n",
    "        c.append(price_range)\n",
    "\n",
    "print(len(c)) #confirm we have generated 100 new random numbers\n",
    "#print(c)  #remove hashtag here to show the newly generated list. "
   ]
  },
  {
   "cell_type": "code",
   "execution_count": null,
   "metadata": {
    "scrolled": true
   },
   "outputs": [],
   "source": [
    "#Reviewing all the pricing is easiest to do in a pandas dataframe  \n",
    "df_pricing = pd.DataFrame({'Distance Pricing': d,'Property Type Pricing': p, 'Bedroom Pricing': b, 'Condition Pricing': c})\n",
    "\n",
    "#here we can also get the mean of each row of prices to generate an overall average price which we will also use as the Square Meter Price\n",
    "square_m = df_pricing.mean(axis=1) #source: https://pandas.pydata.org/pandas-docs/version/0.23.4/generated/pandas.DataFrame.mean.html\n",
    "df_pricing = pd.DataFrame({'Distance Pricing': d,'Property Type Pricing': p, 'Bedroom Pricing': b, 'Condition Pricing': c, 'Mean Price': square_m})\n",
    "df_pricing"
   ]
  },
  {
   "cell_type": "code",
   "execution_count": null,
   "metadata": {
    "scrolled": true
   },
   "outputs": [],
   "source": [
    "#adding the Square Meter Price to the overall generated dataframe, results in the following: \n",
    "df_final = pd.DataFrame({'Distance': distance,'Property Type': z, 'Number of Bedrooms': bedrooms, 'Condition': condition, 'Square Metre Price': square_m})\n",
    "df_final"
   ]
  },
  {
   "cell_type": "markdown",
   "metadata": {},
   "source": [
    "## Section 2 - Plotting Graphs: Visual Analysis "
   ]
  },
  {
   "cell_type": "markdown",
   "metadata": {},
   "source": [
    "In order to truely appreciate the data created, I now wish to use matplotlib and seaborn functionalities to show the data in relevant plots.  "
   ]
  },
  {
   "cell_type": "code",
   "execution_count": null,
   "metadata": {},
   "outputs": [],
   "source": [
    "import matplotlib.pyplot as plt  #import matplotlib functionality\n",
    "\n",
    "(m,c) = np.polyfit(distance,square_m,1) #use ployfit function to determine least squares polynomial line fit, where 1 is the Degree of the fitting the polynomial\n",
    "#Reference: Ian McLoughlin \"Simple Linear Regression with NumPy\" Jupyter Notebook, Semester 2 GMIT \n",
    "\n",
    "#where the resuting m and c are values in the equation of a straight line (y=mx+c)\n",
    "\n",
    "print(m,c) "
   ]
  },
  {
   "cell_type": "code",
   "execution_count": null,
   "metadata": {
    "scrolled": true
   },
   "outputs": [],
   "source": [
    "plt.plot(distance, square_m, 'k.', label='Properties', markersize=10, color='Red') # Plot distance and Square Metre Price to see how they relate \n",
    "plt.plot(distance, m * distance + c, 'b-', label='Best fit line') #add best fit line to show a general trend within the data\n",
    "\n",
    "plt.xlabel('Distance from City') #set name for x axis\n",
    "plt.ylabel('Square Metre Price') #set name for y axis\n",
    "\n",
    "plt.legend() # add a legend\n",
    "plt.show() #show the plot inline\n",
    "\n",
    "# Reference: Ian McLoughlin \"Simple Linear Regression with NumPy\" Jupyter Notebook, Semester 2 GMIT, Programming for Data Analysis"
   ]
  },
  {
   "cell_type": "markdown",
   "metadata": {},
   "source": [
    "From the above, we can see that there is a trend towards a lower price per square metre as the properties move further away from the city. This is not even accounting for their size or condition. This further proves my earlier manipulation of the data has resulted in datapoints that are reflective of reality. "
   ]
  },
  {
   "cell_type": "code",
   "execution_count": null,
   "metadata": {},
   "outputs": [],
   "source": [
    "#In theory, if you could import the live data from Daft.ie, you could very easily create instant plots like the ones below to see which \n",
    "#properties meet your initial criteria, e.g. are in reasonably good condition and near the city \n",
    "\n",
    "import matplotlib.pyplot as plt\n",
    "import seaborn as sns\n",
    "\n",
    "sns.pairplot(df_final, hue='Property Type', markers=[\"o\", \"s\", \"D\", \"o\"]) #Source:https://seaborn.pydata.org/generated/seaborn.pairplot.html"
   ]
  },
  {
   "cell_type": "markdown",
   "metadata": {},
   "source": [
    "Ideally I would have liked to show bedroom number as different sized data points with condition as a varying scale of one colour (light to dark) but unfortunately I couldnt find a plot that could quite accomodate my vision. \n",
    "\n",
    "Instead, I adapted my data slighly to produce the single best overview of all the data generated. Regarding the condition of the property, instead of being on a scale of 1-10, it is now to be modified into 2 groups. One representing properties scoring 7 and over and those scoring under 7.\n"
   ]
  },
  {
   "cell_type": "code",
   "execution_count": null,
   "metadata": {
    "scrolled": true
   },
   "outputs": [],
   "source": [
    "c2 = condition >= 7 #c2 becomes a new array splitting the condition variable into two groups \n",
    "\n",
    "#add this new column of data into our final dataframe\n",
    "df_final2 = pd.DataFrame({'Distance': distance,'Property Type': z, 'Number of Bedrooms': bedrooms, 'Condition':condition, 'Condition2':c2, 'Square Metre Price': square_m})\n",
    "\n",
    "#now I want to convert the True/False Booleon to strings so it represents the new data best in the dataframe\n",
    "bool_cols = df_final2.columns[df_final2.dtypes == 'bool']\n",
    "df_final2[bool_cols] = df_final2[bool_cols].replace({True: 'Over 7', False: 'Under 7'})\n",
    "#df_final2   #remove hashtag here to show the newly generated list. "
   ]
  },
  {
   "cell_type": "code",
   "execution_count": null,
   "metadata": {},
   "outputs": [],
   "source": [
    "#I now can represent all critical variables on a single series of plots where the upper row of plots will show data for properties with a condition score of 7 or over and the secnd row of plots for those below 7.\n",
    "\n",
    "#create grid of plots where col = the information spread across columns,row = the same for each row, hue = differentiation through data point colour and other components add to the formatting of the plots\n",
    "g = sns.FacetGrid(df_final2, col=\"Property Type\", row=\"Condition2\", row_order=['Over 7', 'Under 7'], hue=\"Number of Bedrooms\", legend_out=True, margin_titles=True) #source: https://www.tutorialspoint.com/seaborn/seaborn_facet_grid.html\n",
    "\n",
    "#create scatterplot where from the dataframe, Distance and Square Metre Price are represented on each x and y axis\n",
    "g.map(plt.scatter, \"Distance\", \"Square Metre Price\")  \n",
    "g.add_legend() #include legena\n"
   ]
  },
  {
   "cell_type": "markdown",
   "metadata": {},
   "source": [
    "Reviewing this data, I can now see how each house type compares with regard to their size, condition, distance to the city and price across each category of house. Depending on the property I am looking for, for example a 2 bedroom detached house around 5km from the city needing some work, I can see if there are opportunities available in the third plot in on the second row. \n",
    "\n",
    "If this was real data pulled for today's market, this same code could be used to very quickly generate these same plots. In fact, if updated data came in every day, it would only take minutes for someone to run this code and get updated graphs to share making it viable and valuable source of information for a user. "
   ]
  },
  {
   "cell_type": "code",
   "execution_count": null,
   "metadata": {},
   "outputs": [],
   "source": [
    "import matplotlib.pyplot as plt\n",
    "plt.hist(square_m, bins=20, label='Square Metre Price', color='c', edgecolor='k') #plot a histogram for the square metre price to visualise the trend in the market and identify and outliers\n",
    "plt.axvline(square_m.mean(), color='k', linestyle='dashed', linewidth=1) #source: https://stackoverflow.com/questions/16180946/drawing-average-line-in-histogram-matplotlib\n",
    "plt.xlabel('Square Metre Price, Euros')\n",
    "plt.ylabel('Quantity of Properties')\n",
    "plt.legend() # add a legend\n",
    "plt.show() #show the plot inline"
   ]
  },
  {
   "cell_type": "markdown",
   "metadata": {},
   "source": [
    "The histogram allows me to view a single variable and allows me to identify any significant outliers worth further investigation. For example, a low square metre price may be justifiable for a smaller property in bad condition further from the city but this allows me to see that. It also allows me to see the mean of the dataset identified by the vertical dashed black line. \n",
    "\n",
    "Again if this was real data, the user could also monitor the movement of the mean within the market day to day to see if trends were for prices to rise or fall over time. This hostogram is across all types of properties but by using \n",
    "\n",
    "`df = df.loc[df['Property Type'] == 'Detached']`\n",
    "\n",
    "they could also create the same histogram just for Detached houses and again monitor the trends within the market for this type of property and plot the results over time to see trends within subsections of the market. Similarly, this could be performed for properties within the city centre/suburbs etc. usiign the same function.  "
   ]
  },
  {
   "cell_type": "markdown",
   "metadata": {},
   "source": [
    "### Other Potential Investigation & Visual Representation "
   ]
  },
  {
   "cell_type": "markdown",
   "metadata": {},
   "source": [
    "With more information on localities, actual sales price versus asking price and the number of days for the property to sell, I could further establish areas that are in demand using Seaborn to create a heatmap. (https://seaborn.pydata.org/generated/seaborn.heatmap.html) "
   ]
  },
  {
   "cell_type": "markdown",
   "metadata": {},
   "source": [
    "## Section 3: Machine Learning"
   ]
  },
  {
   "cell_type": "markdown",
   "metadata": {},
   "source": [
    "The last part of my investigation utilises the machine learning capabilities within Python, specifically the K-Nearest Neighbours functionality as part of the SKLearn Package. \n",
    "\n",
    "Please note, the source for this entire section is the \"knn-iris.machine learning\" Jupyter Notebook by Ian McLoughlan from Semester 2 lecture notes. \n"
   ]
  },
  {
   "cell_type": "code",
   "execution_count": null,
   "metadata": {},
   "outputs": [],
   "source": [
    "import sklearn.neighbors as nei       #import K nearest neighbours functionality  \n",
    "\n",
    "inputs = df_final[['Distance', 'Number of Bedrooms', 'Condition', 'Square Metre Price']] #these 4 variables determine the overall square metre price\n",
    "outputs = df_final['Property Type']"
   ]
  },
  {
   "cell_type": "code",
   "execution_count": null,
   "metadata": {},
   "outputs": [],
   "source": [
    "knn = nei.KNeighborsClassifier(n_neighbors=5) #establish classifier i.e. select 5 to instruct sklearn to use the 5 nearest datapoints to predict where \"new\" values will be based on the existing dataset\n",
    "# see also: https://scikit-learn.org/stable/modules/generated/sklearn.neighbors.KNeighborsClassifier.html\n",
    "\n",
    "knn.fit(inputs, outputs) #instruct knn to use existing inputs and outputs to train it on the existing dataset and its existing relationships between datapoints\n",
    "\n",
    "knn.predict([[5.6, 3, 5000, 8]]) #enter example criteria for knn to determine which house type the variables should correspond to. "
   ]
  },
  {
   "cell_type": "markdown",
   "metadata": {},
   "source": [
    "However, in order to use machine learning in a more functional way, I want to use Property Type as an input rather than an output. Square Metre Price would be a more valuable output so to achieve this we must alter the format of both of these variables. Property Type will need to be converted into equivalent integers and Square Metre Price into a Price Range (i.e. a ctring describing the range category)."
   ]
  },
  {
   "cell_type": "code",
   "execution_count": null,
   "metadata": {},
   "outputs": [],
   "source": [
    "property_int = [] #create an empty list for the property type conversion into integers\n",
    "\n",
    "for i in z:                    #using a python if statements, determines which property type should be within which range. \n",
    "    if i == 'Detached':        #each of the 4 types are assigned an integer\n",
    "        property_int.append(1) #add the resulting integer to the p list until the whole property column has been assigned a number\n",
    "    elif i == 'Semi-detached':   #repeat\n",
    "        property_int.append(2)\n",
    "    elif i == 'Terrace':\n",
    "        property_int.append(3)\n",
    "    elif i == 'Apartment':\n",
    "        property_int.append(4)\n",
    "\n",
    "print(len(property_int))  #confirm we have generated 100 new random numbers\n",
    "print(property_int) "
   ]
  },
  {
   "cell_type": "markdown",
   "metadata": {},
   "source": [
    "The \"Range\" categories I will use for Square Metre Price are as follows:  \n",
    "\n",
    "- more than 5000 euro = Top Range\n",
    "- less than 5000 euro = Upper Middle Range\n",
    "- less than 4000 euro = Lower Middle Range\n",
    "- less than 3500 euro = Lower Range\n",
    "\n",
    "Of course numerous more ranges, some overlapping, could be added to improve the accurace of this in a real life example. The complexity would increase but the principle and functionality of SciKit Learn could remain the same.  "
   ]
  },
  {
   "cell_type": "code",
   "execution_count": null,
   "metadata": {},
   "outputs": [],
   "source": [
    "price_cat = [] #create an empty list for the price conversion into ranges identified by Strings\n",
    "\n",
    "for i in square_m:              #using a python if statements, determines which property type should be within which range. \n",
    "    if i < 3500:           #each of the 4 ranges are assigned a string\n",
    "        price_cat.append('Lower Range') #add the resulting string to the price_cat list until the whole price column has been assigned a number\n",
    "    elif i <= 4000:          #repeat\n",
    "        price_cat.append('Lower Middle Range')        \n",
    "    elif i <= 5000:   \n",
    "        price_cat.append('Upper Middle Range')\n",
    "    else:        \n",
    "        price_cat.append('Top Range') \n",
    "\n",
    "print(len(price_cat))  #confirm we have generated 100 new strings\n",
    "#print(price_cat)  #remove hashtag here to show the newly generated list. "
   ]
  },
  {
   "cell_type": "code",
   "execution_count": null,
   "metadata": {},
   "outputs": [],
   "source": [
    "#add this new column of data into our final dataframe\n",
    "df_final3 = pd.DataFrame({'Distance': distance,'Property Type': property_int, 'Number of Bedrooms': bedrooms, 'Condition':condition, 'Square Metre Price': price_cat})\n",
    "#df_final3 #remove initial hashtag here to show the newly generated dataframe"
   ]
  },
  {
   "cell_type": "code",
   "execution_count": null,
   "metadata": {},
   "outputs": [],
   "source": [
    "inputs2 = df_final3[['Distance', 'Property Type', 'Number of Bedrooms', 'Condition']] #these 4 variables determine the overall square metre price\n",
    "outputs2 = df_final3['Square Metre Price']"
   ]
  },
  {
   "cell_type": "code",
   "execution_count": null,
   "metadata": {},
   "outputs": [],
   "source": [
    "knn.fit(inputs2, outputs2) #instruct knn to use updated inputs and outputs to train it on the existing dataset and its existing relationships between datapoints\n",
    "\n",
    "knn.predict([[8.3, 2, 3, 9]]) #enter example criteria for knn to determine which house type the variables shoudl correspond to. "
   ]
  },
  {
   "cell_type": "markdown",
   "metadata": {},
   "source": [
    "Success!! Using the K Nearest Neighbours function, I have new been able to create a code to predict the price range for a prioperty based on 4 known variables in the current market, where the existing dataset was used to \"train\" the function. \n",
    "\n",
    "This could have very practical applications for both buyers and sellers of properties.\n",
    "\n",
    "To finish, lets check how accurate the prediction is..."
   ]
  },
  {
   "cell_type": "code",
   "execution_count": null,
   "metadata": {},
   "outputs": [],
   "source": [
    "k = (knn.predict(inputs2) == outputs2).sum() #this function is used to test how many of the \"predictions\" would be correct if the same \"prediction model was applied to the actual data - how many of the answers would be correct?\n",
    "print('%d is the number of predictions that are correct from 100 and an indication therefore of the accuracy of the model' % (k)) "
   ]
  },
  {
   "cell_type": "code",
   "execution_count": null,
   "metadata": {},
   "outputs": [],
   "source": [
    "import sklearn.model_selection as mod #import functionality to further train model using a proportion of test inputs \n",
    "\n",
    "inputs_train, inputs_test, outputs_train, outputs_test = mod.train_test_split(inputs2, outputs2, test_size=0.25) \n",
    "#this function now splits the data in 75% used to train the model while 25% (test size = 0.25) are then tested as a result of this training"
   ]
  },
  {
   "cell_type": "code",
   "execution_count": null,
   "metadata": {
    "scrolled": true
   },
   "outputs": [],
   "source": [
    "knn = nei.KNeighborsClassifier(n_neighbors=5) #I then run the overall test again recreating the classifier to see how many the model now gets right\n",
    "knn.fit(inputs_train, outputs_train) #not I only train the classifier on the \"training\" inputs/outputs (n=75) though this time "
   ]
  },
  {
   "cell_type": "code",
   "execution_count": null,
   "metadata": {
    "scrolled": false
   },
   "outputs": [],
   "source": [
    "k2 = (knn.predict(inputs_test) == outputs_test).sum() #this function is again used to test how many of the \"predictions\" would be correct if the same \"prediction model was applied to the actual data - how many of the answers would be correct?\n",
    "print('%d is the number of predictions that are correct from 25 and an indication therefore of the accuracy of the model' % (k2)) "
   ]
  },
  {
   "cell_type": "code",
   "execution_count": null,
   "metadata": {},
   "outputs": [],
   "source": [
    "print('In this instance, the overall accuracey has changed from %d%%\\n to %d%%\\n' %(k, k2*4)) #source: https://stackoverflow.com/questions/28343745/how-do-i-print-a-sign-using-string-formatting"
   ]
  },
  {
   "cell_type": "markdown",
   "metadata": {},
   "source": [
    "## Conclusion"
   ]
  },
  {
   "cell_type": "markdown",
   "metadata": {},
   "source": [
    "This investigation into property prices has resulted in a great example to demonstrate simulating random numbers, displaying them in a vusual way that could be very meaningful for the user and the ability to predict price ranges using maching learning functions.  \n",
    "\n",
    "In conclusion, using a combination of the `numpy.random` function and if/elif statements, I was able to generate data that is reasonably reflective of real life and based on the general assumptions anyone can make when reviewing property prices on Daft.ie.  \n",
    "\n",
    "In addition to this, I was able to use Seaborn and Matplotlib to establish graphs that plot data very quickly to highlight interesting aspects of the market. \n",
    "\n",
    "Lastly, I was happy that I could then re-create the SciKit Learn code to use its functions to predict the square metre price range using 4 established variables. \n",
    "\n",
    "Overall, I can now see how these features of Python could abe applied to real life real estate data. "
   ]
  },
  {
   "cell_type": "markdown",
   "metadata": {},
   "source": [
    "## References"
   ]
  },
  {
   "cell_type": "markdown",
   "metadata": {},
   "source": [
    "NOTE: coding sources/support have been references in #comments beside the code\n",
    "\n",
    "1. https://github.com/eimearbutler7/Programming4DA/blob/master/P4DA_Assignment.ipynb\n",
    "\n",
    "\n",
    "2. Daft.ie examples\n",
    "  - https://www.daft.ie/dublin/houses-for-sale/beaumont/5-coolatree-close-beaumont-dublin-1931390/\n",
    "  - https://www.daft.ie/dublin/apartments-for-sale/ifsc/1-semple-house-custom-house-square-ifsc-dublin-1975329/\n",
    "  - https://www.daft.ie/dublin/houses-for-sale/whitehall/275-collins-avenue-whitehall-dublin-1960290/"
   ]
  },
  {
   "cell_type": "markdown",
   "metadata": {},
   "source": [
    "## End"
   ]
  }
 ],
 "metadata": {
  "kernelspec": {
   "display_name": "Python 3",
   "language": "python",
   "name": "python3"
  },
  "language_info": {
   "codemirror_mode": {
    "name": "ipython",
    "version": 3
   },
   "file_extension": ".py",
   "mimetype": "text/x-python",
   "name": "python",
   "nbconvert_exporter": "python",
   "pygments_lexer": "ipython3",
   "version": "3.6.5"
  }
 },
 "nbformat": 4,
 "nbformat_minor": 2
}
